{
 "cells": [
  {
   "cell_type": "code",
   "execution_count": null,
   "id": "e5b3f7ed",
   "metadata": {},
   "outputs": [],
   "source": [
    "import pandas as pd\n",
    "import numpy as np\n",
    "import matplotlib.pyplot as plt\n",
    "import seaborn as sns\n",
    "from sklearn.ensemble import RandomForestClassifier\n",
    "from sklearn.metrics import classification_report, confusion_matrix\n",
    "from sklearn.model_selection import train_test_split\n",
    "from sklearn.utils.class_weight import compute_class_weight\n",
    "import joblib"
   ]
  },
  {
   "cell_type": "code",
   "execution_count": null,
   "id": "32f72ff4",
   "metadata": {},
   "outputs": [],
   "source": [
    "df = pd.read_csv(\"/kaggle/input/genomic-data/variant_summary.txt\", sep='\\t', low_memory=False)\n",
    "df = df[df['ClinicalSignificance'].notnull()].copy()"
   ]
  },
  {
   "cell_type": "code",
   "execution_count": null,
   "id": "1c5a7f61",
   "metadata": {},
   "outputs": [],
   "source": [
    "def classify_pathogenicity(value):\n",
    "    v = value.lower()\n",
    "    if \"pathogenic\" in v and \"benign\" not in v:\n",
    "        return 1\n",
    "    elif \"benign\" in v and \"pathogenic\" not in v:\n",
    "        return 0\n",
    "    else:\n",
    "        return None\n",
    "\n",
    "df['label'] = df['ClinicalSignificance'].apply(classify_pathogenicity)\n",
    "df = df[df['label'].isin([0, 1])]"
   ]
  },
  {
   "cell_type": "code",
   "execution_count": null,
   "id": "a490c699",
   "metadata": {},
   "outputs": [],
   "source": [
    "df['gene_name_length'] = df['GeneSymbol'].apply(lambda x: len(str(x)))\n",
    "df['ref_len'] = df['ReferenceAllele'].apply(lambda x: len(str(x)) if pd.notnull(x) else 0)\n",
    "df['alt_len'] = df['AlternateAllele'].apply(lambda x: len(str(x)) if pd.notnull(x) else 0)\n",
    "df['allele_length_diff'] = df['alt_len'] - df['ref_len']\n",
    "df = pd.get_dummies(df, columns=['Type'], prefix='variant_type')"
   ]
  },
  {
   "cell_type": "code",
   "execution_count": null,
   "id": "677dcd91",
   "metadata": {},
   "outputs": [],
   "source": [
    "feature_cols = ['gene_name_length', 'allele_length_diff'] + [col for col in df.columns if col.startswith('variant_type_')]\n",
    "X = df[feature_cols]\n",
    "y = df['label']\n",
    "\n",
    "X_train, X_test, y_train, y_test = train_test_split(X, y, test_size=0.2, random_state=42)\n",
    "\n",
    "weights = compute_class_weight(class_weight='balanced', classes=np.unique(y_train), y=y_train)\n",
    "class_weights = {0: weights[0], 1: weights[1]}\n",
    "\n",
    "model = RandomForestClassifier(n_estimators=100, class_weight=class_weights, n_jobs=-1, random_state=42)\n",
    "model.fit(X_train, y_train)"
   ]
  },
  {
   "cell_type": "code",
   "execution_count": null,
   "id": "46715bb6",
   "metadata": {},
   "outputs": [],
   "source": [
    "joblib.dump(model, \"rf_clinvar_model.pkl\")"
   ]
  },
  {
   "cell_type": "code",
   "execution_count": null,
   "id": "ce3baf1e",
   "metadata": {},
   "outputs": [],
   "source": [
    "y_pred = model.predict(X_test)\n",
    "print(confusion_matrix(y_test, y_pred))\n",
    "print(classification_report(y_test, y_pred))"
   ]
  },
  {
   "cell_type": "code",
   "execution_count": null,
   "id": "772132fb",
   "metadata": {},
   "outputs": [],
   "source": [
    "importances = model.feature_importances_\n",
    "features = pd.Series(importances, index=feature_cols)\n",
    "features.sort_values(ascending=False).plot(kind='bar', title=\"Feature Importances\", figsize=(12, 5))\n",
    "plt.ylabel(\"Importance\")\n",
    "plt.tight_layout()\n",
    "plt.show()"
   ]
  },
  {
   "cell_type": "code",
   "execution_count": null,
   "id": "85ac8596",
   "metadata": {},
   "outputs": [],
   "source": [
    "import shap\n",
    "explainer = shap.TreeExplainer(model)\n",
    "shap_values = explainer.shap_values(X_test[:500])\n",
    "shap.summary_plot(shap_values[1], X_test[:500], plot_type=\"dot\")"
   ]
  }
 ],
 "metadata": {},
 "nbformat": 4,
 "nbformat_minor": 5
}
